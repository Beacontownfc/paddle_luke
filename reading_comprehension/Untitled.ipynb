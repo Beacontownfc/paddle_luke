{
 "cells": [
  {
   "cell_type": "code",
   "execution_count": 1,
   "id": "dd2cc5e8-8b64-40fd-965c-f1e424fe6ff0",
   "metadata": {
    "execution": {
     "iopub.execute_input": "2022-01-14T08:08:00.459498Z",
     "iopub.status.busy": "2022-01-14T08:08:00.458906Z",
     "iopub.status.idle": "2022-01-14T08:09:12.262151Z",
     "shell.execute_reply": "2022-01-14T08:09:12.261266Z",
     "shell.execute_reply.started": "2022-01-14T08:08:00.459458Z"
    },
    "scrolled": true
   },
   "outputs": [
    {
     "name": "stdout",
     "output_type": "stream",
     "text": [
      "Looking in indexes: https://pypi.tuna.tsinghua.edu.cn/simple\n",
      "Collecting wikipedia2vec==1.0.5\n",
      "\u001b[?25l  Downloading https://pypi.tuna.tsinghua.edu.cn/packages/89/83/15ab878fe5a93590b80bac8c3a8b0ad5f5dec5d0ea1071f9a17dbce5c33b/wikipedia2vec-1.0.5.tar.gz (1.2MB)\n",
      "\u001b[K     |████████████████████████████████| 1.2MB 3.7MB/s eta 0:00:01\n",
      "\u001b[?25hRequirement already satisfied: click in /opt/conda/envs/python35-paddle120-env/lib/python3.7/site-packages (from wikipedia2vec==1.0.5) (7.0)\n",
      "Requirement already satisfied: jieba in /opt/conda/envs/python35-paddle120-env/lib/python3.7/site-packages (from wikipedia2vec==1.0.5) (0.42.1)\n",
      "Requirement already satisfied: joblib in /opt/conda/envs/python35-paddle120-env/lib/python3.7/site-packages (from wikipedia2vec==1.0.5) (0.14.1)\n",
      "Collecting lmdb (from wikipedia2vec==1.0.5)\n",
      "\u001b[?25l  Downloading https://pypi.tuna.tsinghua.edu.cn/packages/4d/cf/3230b1c9b0bec406abb85a9332ba5805bdd03a1d24025c6bbcfb8ed71539/lmdb-1.3.0-cp37-cp37m-manylinux_2_12_x86_64.manylinux2010_x86_64.whl (298kB)\n",
      "\u001b[K     |████████████████████████████████| 307kB 8.3MB/s eta 0:00:01\n",
      "\u001b[?25hCollecting marisa-trie (from wikipedia2vec==1.0.5)\n",
      "\u001b[?25l  Downloading https://pypi.tuna.tsinghua.edu.cn/packages/2d/4d/8a622a03ba1a0798667a737a6f3c703605092572cdbd254db0f25ac50a88/marisa_trie-0.7.7-cp37-cp37m-manylinux_2_5_x86_64.manylinux1_x86_64.manylinux_2_12_x86_64.manylinux2010_x86_64.whl (1.2MB)\n",
      "\u001b[K     |████████████████████████████████| 1.2MB 57.4MB/s eta 0:00:01\n",
      "\u001b[?25hCollecting mwparserfromhell (from wikipedia2vec==1.0.5)\n",
      "\u001b[?25l  Downloading https://pypi.tuna.tsinghua.edu.cn/packages/c4/20/a12b478f9a6cfe9c728b2d6b7cb493e451693ace590859109918db6c6a79/mwparserfromhell-0.6.3-cp37-cp37m-manylinux_2_5_x86_64.manylinux1_x86_64.whl (175kB)\n",
      "\u001b[K     |████████████████████████████████| 184kB 2.1MB/s eta 0:00:01\n",
      "\u001b[?25hRequirement already satisfied: numpy in /opt/conda/envs/python35-paddle120-env/lib/python3.7/site-packages (from wikipedia2vec==1.0.5) (1.20.3)\n",
      "Requirement already satisfied: scipy in /opt/conda/envs/python35-paddle120-env/lib/python3.7/site-packages (from wikipedia2vec==1.0.5) (1.6.3)\n",
      "Requirement already satisfied: six in /opt/conda/envs/python35-paddle120-env/lib/python3.7/site-packages (from wikipedia2vec==1.0.5) (1.16.0)\n",
      "Requirement already satisfied: tqdm in /opt/conda/envs/python35-paddle120-env/lib/python3.7/site-packages (from wikipedia2vec==1.0.5) (4.27.0)\n",
      "Requirement already satisfied: setuptools in /opt/conda/envs/python35-paddle120-env/lib/python3.7/site-packages (from marisa-trie->wikipedia2vec==1.0.5) (56.2.0)\n",
      "Building wheels for collected packages: wikipedia2vec\n",
      "  Building wheel for wikipedia2vec (setup.py) ... \u001b[?25ldone\n",
      "\u001b[?25h  Created wheel for wikipedia2vec: filename=wikipedia2vec-1.0.5-cp37-cp37m-linux_x86_64.whl size=4650908 sha256=594ef8b4edfe977da97e0c771c68178dc7224f6092b43014e2150ac2aef9cf0c\n",
      "  Stored in directory: /home/aistudio/.cache/pip/wheels/cf/d9/6d/e15f5587037521d51f8c695e7740b464627c090cd639823646\n",
      "Successfully built wikipedia2vec\n",
      "Installing collected packages: lmdb, marisa-trie, mwparserfromhell, wikipedia2vec\n",
      "Successfully installed lmdb-1.3.0 marisa-trie-0.7.7 mwparserfromhell-0.6.3 wikipedia2vec-1.0.5\n",
      "Looking in indexes: https://pypi.tuna.tsinghua.edu.cn/simple\n",
      "Collecting regex\n",
      "\u001b[?25l  Downloading https://pypi.tuna.tsinghua.edu.cn/packages/7f/e3/5bd531ce6dc4c08b41173576a377fff5e6e6ca87bb58d926acb2218e2b44/regex-2021.11.10-cp37-cp37m-manylinux_2_5_x86_64.manylinux1_x86_64.manylinux_2_12_x86_64.manylinux2010_x86_64.whl (670kB)\n",
      "\u001b[K     |████████████████████████████████| 675kB 7.1MB/s eta 0:00:01\n",
      "\u001b[?25hInstalling collected packages: regex\n",
      "Successfully installed regex-2021.11.10\n",
      "Looking in indexes: https://pypi.tuna.tsinghua.edu.cn/simple\n",
      "Collecting transformers==2.3.0\n",
      "\u001b[?25l  Downloading https://pypi.tuna.tsinghua.edu.cn/packages/50/10/aeefced99c8a59d828a92cc11d213e2743212d3641c87c82d61b035a7d5c/transformers-2.3.0-py3-none-any.whl (447kB)\n",
      "\u001b[K     |████████████████████████████████| 450kB 6.0MB/s eta 0:00:01\n",
      "\u001b[?25hCollecting sacremoses (from transformers==2.3.0)\n",
      "\u001b[?25l  Downloading https://pypi.tuna.tsinghua.edu.cn/packages/ec/e5/407e634cbd3b96a9ce6960874c5b66829592ead9ac762bd50662244ce20b/sacremoses-0.0.47-py2.py3-none-any.whl (895kB)\n",
      "\u001b[K     |████████████████████████████████| 901kB 16.9MB/s eta 0:00:01\n",
      "\u001b[?25hRequirement already satisfied: regex!=2019.12.17 in /opt/conda/envs/python35-paddle120-env/lib/python3.7/site-packages (from transformers==2.3.0) (2021.11.10)\n",
      "Requirement already satisfied: numpy in /opt/conda/envs/python35-paddle120-env/lib/python3.7/site-packages (from transformers==2.3.0) (1.20.3)\n",
      "Requirement already satisfied: sentencepiece in /opt/conda/envs/python35-paddle120-env/lib/python3.7/site-packages (from transformers==2.3.0) (0.1.96)\n",
      "Requirement already satisfied: requests in /opt/conda/envs/python35-paddle120-env/lib/python3.7/site-packages (from transformers==2.3.0) (2.22.0)\n",
      "Collecting boto3 (from transformers==2.3.0)\n",
      "\u001b[?25l  Downloading https://pypi.tuna.tsinghua.edu.cn/packages/b0/ab/ac755d8dc4004e26f22632046b118eff596d0576d17fae1ca4be170c2135/boto3-1.20.35-py3-none-any.whl (131kB)\n",
      "\u001b[K     |████████████████████████████████| 133kB 4.8MB/s eta 0:00:01\n",
      "\u001b[?25hRequirement already satisfied: tqdm in /opt/conda/envs/python35-paddle120-env/lib/python3.7/site-packages (from transformers==2.3.0) (4.27.0)\n",
      "Requirement already satisfied: six in /opt/conda/envs/python35-paddle120-env/lib/python3.7/site-packages (from sacremoses->transformers==2.3.0) (1.16.0)\n",
      "Requirement already satisfied: click in /opt/conda/envs/python35-paddle120-env/lib/python3.7/site-packages (from sacremoses->transformers==2.3.0) (7.0)\n",
      "Requirement already satisfied: joblib in /opt/conda/envs/python35-paddle120-env/lib/python3.7/site-packages (from sacremoses->transformers==2.3.0) (0.14.1)\n",
      "Requirement already satisfied: chardet<3.1.0,>=3.0.2 in /opt/conda/envs/python35-paddle120-env/lib/python3.7/site-packages (from requests->transformers==2.3.0) (3.0.4)\n",
      "Requirement already satisfied: certifi>=2017.4.17 in /opt/conda/envs/python35-paddle120-env/lib/python3.7/site-packages (from requests->transformers==2.3.0) (2019.9.11)\n",
      "Requirement already satisfied: urllib3!=1.25.0,!=1.25.1,<1.26,>=1.21.1 in /opt/conda/envs/python35-paddle120-env/lib/python3.7/site-packages (from requests->transformers==2.3.0) (1.25.6)\n",
      "Requirement already satisfied: idna<2.9,>=2.5 in /opt/conda/envs/python35-paddle120-env/lib/python3.7/site-packages (from requests->transformers==2.3.0) (2.8)\n",
      "Collecting s3transfer<0.6.0,>=0.5.0 (from boto3->transformers==2.3.0)\n",
      "\u001b[?25l  Downloading https://pypi.tuna.tsinghua.edu.cn/packages/ab/84/fc3717a7b7f0f6bb08af593127171f08e3e0087c197922da09c01bfe7c3a/s3transfer-0.5.0-py3-none-any.whl (79kB)\n",
      "\u001b[K     |████████████████████████████████| 81kB 109kB/s ta 0:00:0111\n",
      "\u001b[?25hCollecting jmespath<1.0.0,>=0.7.1 (from boto3->transformers==2.3.0)\n",
      "  Downloading https://pypi.tuna.tsinghua.edu.cn/packages/07/cb/5f001272b6faeb23c1c9e0acc04d48eaaf5c862c17709d20e3469c6e0139/jmespath-0.10.0-py2.py3-none-any.whl\n",
      "Collecting botocore<1.24.0,>=1.23.35 (from boto3->transformers==2.3.0)\n",
      "\u001b[?25l  Downloading https://pypi.tuna.tsinghua.edu.cn/packages/69/d5/e5d85ddde18bc176ec9ad02213be8b789248410374fa1d557560d699831c/botocore-1.23.35-py3-none-any.whl (8.5MB)\n",
      "\u001b[K     |████████████████████████████████| 8.5MB 2.3MB/s eta 0:00:01\n",
      "\u001b[?25hRequirement already satisfied: python-dateutil<3.0.0,>=2.1 in /opt/conda/envs/python35-paddle120-env/lib/python3.7/site-packages (from botocore<1.24.0,>=1.23.35->boto3->transformers==2.3.0) (2.8.2)\n",
      "Installing collected packages: sacremoses, jmespath, botocore, s3transfer, boto3, transformers\n",
      "Successfully installed boto3-1.20.35 botocore-1.23.35 jmespath-0.10.0 s3transfer-0.5.0 sacremoses-0.0.47 transformers-2.3.0\n"
     ]
    }
   ],
   "source": [
    "!pip install -r requirements.txt"
   ]
  },
  {
   "cell_type": "code",
   "execution_count": 2,
   "id": "03194b83-349d-4bf4-8ed4-f934dc0ee98f",
   "metadata": {
    "execution": {
     "iopub.execute_input": "2022-01-14T08:10:02.129651Z",
     "iopub.status.busy": "2022-01-14T08:10:02.129204Z",
     "iopub.status.idle": "2022-01-14T08:20:31.324212Z",
     "shell.execute_reply": "2022-01-14T08:20:31.323245Z",
     "shell.execute_reply.started": "2022-01-14T08:10:02.129617Z"
    },
    "scrolled": false
   },
   "outputs": [
    {
     "name": "stdout",
     "output_type": "stream",
     "text": [
      "Neither PyTorch nor TensorFlow >= 2.0 have been found.Models won't be available and only tokenizers, configurationand file/data utilities can be used.\n",
      "load wiki squad_data\n",
      "load complete 1\n",
      "load complete 2\n",
      "load complete 3\n",
      "Creating features from the dataset...\n",
      "100%|████████████████████████████████████| 10570/10570 [00:40<00:00, 263.79it/s]\n",
      "over\n",
      "100%|███████████████████████████████████| 10641/10641 [00:01<00:00, 6250.40it/s]\n",
      "eval_data\n",
      "100%|███████████████████████████████████| 10641/10641 [00:04<00:00, 2312.00it/s]\n",
      "Creating features from the dataset...\n",
      "100%|████████████████████████████████████| 87599/87599 [05:41<00:00, 256.71it/s]\n",
      "over\n",
      "100%|███████████████████████████████████| 87777/87777 [00:09<00:00, 9457.60it/s]\n",
      "train\n",
      "100%|███████████████████████████████████| 87777/87777 [00:41<00:00, 2123.75it/s]\n"
     ]
    }
   ],
   "source": [
    "!python create_squad_data.py"
   ]
  },
  {
   "cell_type": "code",
   "execution_count": 3,
   "id": "a3f452b0-7a0f-41e1-90ba-4a3e01040332",
   "metadata": {
    "execution": {
     "iopub.execute_input": "2022-01-14T08:20:39.129618Z",
     "iopub.status.busy": "2022-01-14T08:20:39.128879Z",
     "iopub.status.idle": "2022-01-14T08:31:08.531466Z",
     "shell.execute_reply": "2022-01-14T08:31:08.530479Z",
     "shell.execute_reply.started": "2022-01-14T08:20:39.129579Z"
    },
    "scrolled": false
   },
   "outputs": [
    {
     "name": "stdout",
     "output_type": "stream",
     "text": [
      "Neither PyTorch nor TensorFlow >= 2.0 have been found.Models won't be available and only tokenizers, configurationand file/data utilities can be used.\n",
      "W0114 16:20:41.490937  1472 device_context.cc:447] Please NOTE: device: 0, GPU Compute Capability: 7.0, Driver API Version: 10.1, Runtime API Version: 10.1\n",
      "W0114 16:20:41.495287  1472 device_context.cc:465] device: 0, cuDNN Version: 7.6.\n",
      "eval: 100%|██████████| 333/333 [09:48<00:00,  1.51s/it]\n",
      "从JSON中加载测试数据集......\n",
      "开始评估模型......\n",
      "start to get predictions\n",
      "{\"exact_match\": 89.17691579943235, \"f1\": 94.82702001984502}\n"
     ]
    }
   ],
   "source": [
    "!python main.py 2>&1 | tee train.log"
   ]
  }
 ],
 "metadata": {
  "kernelspec": {
   "display_name": "Python 3",
   "language": "python",
   "name": "py35-paddle1.2.0"
  },
  "language_info": {
   "codemirror_mode": {
    "name": "ipython",
    "version": 3
   },
   "file_extension": ".py",
   "mimetype": "text/x-python",
   "name": "python",
   "nbconvert_exporter": "python",
   "pygments_lexer": "ipython3",
   "version": "3.7.4"
  }
 },
 "nbformat": 4,
 "nbformat_minor": 5
}
